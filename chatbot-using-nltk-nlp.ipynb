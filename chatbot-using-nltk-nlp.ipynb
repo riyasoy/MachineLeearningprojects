{
 "cells": [
  {
   "cell_type": "markdown",
   "metadata": {},
   "source": [
    "<h4 style = \"background-color: #8cff66 ; font-family: newtimesroman ; font-size : 300% ; text-align : center; border-radius:15px 50px; padding : 5px\"> CHAT BOT using NLTK | NLP</h4>"
   ]
  },
  {
   "cell_type": "code",
   "execution_count": 1,
   "metadata": {
    "execution": {
     "iopub.execute_input": "2022-06-04T18:39:58.023386Z",
     "iopub.status.busy": "2022-06-04T18:39:58.022816Z",
     "iopub.status.idle": "2022-06-04T18:39:58.845851Z",
     "shell.execute_reply": "2022-06-04T18:39:58.844751Z",
     "shell.execute_reply.started": "2022-06-04T18:39:58.023272Z"
    }
   },
   "outputs": [],
   "source": [
    "#importing libraries\n",
    "import nltk\n",
    "import random\n",
    "import string\n",
    "import warnings\n",
    "warnings.filterwarnings"
   ]
  },
  {
   "cell_type": "code",
   "execution_count": 2,
   "metadata": {
    "execution": {
     "iopub.execute_input": "2022-06-04T18:39:58.848976Z",
     "iopub.status.busy": "2022-06-04T18:39:58.847888Z",
     "iopub.status.idle": "2022-06-04T18:39:58.859535Z",
     "shell.execute_reply": "2022-06-04T18:39:58.858297Z",
     "shell.execute_reply.started": "2022-06-04T18:39:58.848926Z"
    }
   },
   "outputs": [],
   "source": [
    "f = open ('../input/act1part1/Act1Part1.txt', 'r', errors = 'ignore')\n",
    "raw = f.read()\n",
    "raw = raw.lower()"
   ]
  },
  {
   "cell_type": "code",
   "execution_count": 3,
   "metadata": {
    "execution": {
     "iopub.execute_input": "2022-06-04T18:39:58.862556Z",
     "iopub.status.busy": "2022-06-04T18:39:58.861896Z",
     "iopub.status.idle": "2022-06-04T18:39:58.888873Z",
     "shell.execute_reply": "2022-06-04T18:39:58.887558Z",
     "shell.execute_reply.started": "2022-06-04T18:39:58.862507Z"
    }
   },
   "outputs": [],
   "source": [
    "sent_tokens = nltk.sent_tokenize(raw) #converts to list of scentences\n",
    "word_tokens = nltk.word_tokenize(raw) #converts to list of words"
   ]
  },
  {
   "cell_type": "code",
   "execution_count": 4,
   "metadata": {
    "execution": {
     "iopub.execute_input": "2022-06-04T18:39:58.891454Z",
     "iopub.status.busy": "2022-06-04T18:39:58.890898Z",
     "iopub.status.idle": "2022-06-04T18:39:58.898781Z",
     "shell.execute_reply": "2022-06-04T18:39:58.897632Z",
     "shell.execute_reply.started": "2022-06-04T18:39:58.891408Z"
    }
   },
   "outputs": [],
   "source": [
    "sentToken = sent_tokens[:4]\n",
    "print(sentToken)\n",
    "wordToken = word_tokens[:4]\n",
    "print(wordToken)"
   ]
  },
  {
   "cell_type": "code",
   "execution_count": 5,
   "metadata": {
    "execution": {
     "iopub.execute_input": "2022-06-04T18:39:58.901907Z",
     "iopub.status.busy": "2022-06-04T18:39:58.901258Z",
     "iopub.status.idle": "2022-06-04T18:39:58.917346Z",
     "shell.execute_reply": "2022-06-04T18:39:58.916290Z",
     "shell.execute_reply.started": "2022-06-04T18:39:58.901866Z"
    }
   },
   "outputs": [],
   "source": [
    "#preprocessing\n",
    "lemmer = nltk.stem.WordNetLemmatizer()\n",
    "\n",
    "def LemTokens(tokens):\n",
    "    return [lemmer.lemmatize(token) for token in tokens]\n",
    "remove_punct_dict = dict((ord(punct), None) for punct in string.punctuation)\n",
    "\n",
    "def LemNormalize(text):\n",
    "    return LemTokens(nltk.word_tokenize(text.lower().translate(remove_punct_dict)))"
   ]
  },
  {
   "cell_type": "code",
   "execution_count": 6,
   "metadata": {
    "execution": {
     "iopub.execute_input": "2022-06-04T18:39:58.920880Z",
     "iopub.status.busy": "2022-06-04T18:39:58.920361Z",
     "iopub.status.idle": "2022-06-04T18:39:58.931819Z",
     "shell.execute_reply": "2022-06-04T18:39:58.930508Z",
     "shell.execute_reply.started": "2022-06-04T18:39:58.920841Z"
    }
   },
   "outputs": [],
   "source": [
    "#Greetings\n",
    "GREETING_INPUTS = (\"hello\", \"hi\", \"greetings\", \"yo\", \"what's up\", \"hey\")\n",
    "GREETING_RESPONSES = [\"hi\", \"hey\", \"nods\", \"hi there\", \"hello\", \"hii! Nice to meet you :)\"]\n",
    "\n",
    "def greeting(scentence):\n",
    "    \n",
    "    for word in scentence.split():\n",
    "        if word.lower() in GREETING_INPUTS:\n",
    "            return random.choice(GREETING_RESPONSES)\n",
    "        "
   ]
  },
  {
   "cell_type": "code",
   "execution_count": 7,
   "metadata": {
    "execution": {
     "iopub.execute_input": "2022-06-04T18:39:58.934374Z",
     "iopub.status.busy": "2022-06-04T18:39:58.933587Z",
     "iopub.status.idle": "2022-06-04T18:39:58.946795Z",
     "shell.execute_reply": "2022-06-04T18:39:58.945771Z",
     "shell.execute_reply.started": "2022-06-04T18:39:58.934319Z"
    }
   },
   "outputs": [],
   "source": [
    "#Vectorizer\n",
    "from sklearn.feature_extraction.text import TfidfVectorizer\n",
    "from sklearn.metrics.pairwise import cosine_similarity\n",
    "\n",
    "def response(user_response):\n",
    "    chatbot_response = ''\n",
    "    sent_tokens.append(user_response)\n",
    "    TfidfVec = TfidfVectorizer(tokenizer=LemNormalize, stop_words=\"english\")\n",
    "    tfidf = TfidfVec.fit_transform(sent_tokens)\n",
    "    vals = cosine_similarity(tfidf[-1], tfidf)\n",
    "    idx = vals.argsort()[0][-2]\n",
    "    flat = vals.flatten()\n",
    "    flat.sort()\n",
    "    req_tfidf = flat[-2]\n",
    "    if(req_tfidf == 0):\n",
    "        chatbot_response = chatbot_response + \"I am sorry! I don't understand you :( \"\n",
    "        return chatbot_response\n",
    "    \n",
    "    else:\n",
    "        chatbot_response=chatbot_response+sent_tokens[idx]\n",
    "        return chatbot_response\n",
    "    "
   ]
  },
  {
   "cell_type": "code",
   "execution_count": 10,
   "metadata": {
    "execution": {
     "iopub.execute_input": "2022-06-04T18:48:44.063198Z",
     "iopub.status.busy": "2022-06-04T18:48:44.062013Z",
     "iopub.status.idle": "2022-06-04T18:48:59.934189Z",
     "shell.execute_reply": "2022-06-04T18:48:59.933030Z",
     "shell.execute_reply.started": "2022-06-04T18:48:44.063151Z"
    }
   },
   "outputs": [],
   "source": [
    "if __name__ == \"__main__\":\n",
    "    flag = True\n",
    "    print (\"Hello, there my name is Z. I will answer your queries. If you want to exit, type Bye!\")\n",
    "    while(flag==True):\n",
    "        user_response = input()\n",
    "        user_response = user_response.lower()\n",
    "        if (user_response != 'bye'):\n",
    "            if user_response == 'thanks' or user_response == 'thank you':\n",
    "                flag = False\n",
    "                print(\"Z: Your welcome!\")\n",
    "            else:\n",
    "                if (greeting(user_response)!=None):\n",
    "                    print(\"Z:\" +greeting(user_response))\n",
    "                else:\n",
    "                    print(\"Z:\", end='')\n",
    "                    print(response(user_response))\n",
    "                    sent_tokens.remove(user_response) \n",
    "                    \n",
    "        else:\n",
    "            flag = False\n",
    "            print(\"Z: Bye! Have a good time! Thank you for visiting me\")\n",
    "            "
   ]
  },
  {
   "cell_type": "markdown",
   "metadata": {},
   "source": [
    "* <h4 style = \"background-color: #00b3b3; font-family: newtimesroman ; font-size : 200% ; text-align : center; border-radius:15px 50px; padding : 5px\"> As a beginner, It's a simple chatbot that I have created. I will be working on more NLP projects. If you like it please upvote and share :) </h4>"
   ]
  },
  {
   "cell_type": "markdown",
   "metadata": {},
   "source": []
  },
  {
   "cell_type": "markdown",
   "metadata": {},
   "source": [
    "<h4 style = \"background-color: #8cff66 ; font-family: newtimesroman ; font-size : 300% ; text-align : center; border-radius:15px 50px; padding : 5px\"> Please look forward to my work.</h4>"
   ]
  }
 ],
 "metadata": {
  "kernelspec": {
   "display_name": "Python 3",
   "language": "python",
   "name": "python3"
  },
  "language_info": {
   "codemirror_mode": {
    "name": "ipython",
    "version": 3
   },
   "file_extension": ".py",
   "mimetype": "text/x-python",
   "name": "python",
   "nbconvert_exporter": "python",
   "pygments_lexer": "ipython3",
   "version": "3.8.8"
  }
 },
 "nbformat": 4,
 "nbformat_minor": 4
}
